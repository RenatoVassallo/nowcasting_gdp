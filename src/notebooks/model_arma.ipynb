{
 "cells": [
  {
   "cell_type": "markdown",
   "metadata": {},
   "source": [
    "# **ARMA Model**"
   ]
  },
  {
   "cell_type": "markdown",
   "metadata": {},
   "source": [
    "## 1. Import libraries"
   ]
  },
  {
   "cell_type": "code",
   "execution_count": null,
   "metadata": {},
   "outputs": [],
   "source": [
    "# Library imports\n",
    "import numpy as np\n",
    "import pandas as pd\n",
    "import os\n",
    "from config.paths import dir_input_cleaned\n",
    "import matplotlib.pyplot as plt\n",
    "import statsmodels.api as sm\n",
    "plt.style.use('ggplot')\n",
    "import warnings\n",
    "warnings.filterwarnings(\"ignore\", category=UserWarning)"
   ]
  },
  {
   "cell_type": "code",
   "execution_count": null,
   "metadata": {},
   "outputs": [],
   "source": [
    "import numpy as np\n",
    "import statsmodels.api as sm\n",
    "\n",
    "def automatic_arima(time_series, max_ar=3, max_ma=3, d=0, criterion=\"AIC\", verbose=False):\n",
    "    \"\"\"\n",
    "    Finds the best ARIMA model for a given time series based on the specified criterion (AIC or BIC).\n",
    "    \n",
    "    Parameters:\n",
    "    - time_series (pd.Series): The time series data.\n",
    "    - max_ar (int): Maximum value for the AR component.\n",
    "    - max_ma (int): Maximum value for the MA component.\n",
    "    - d (int): The order of differencing. Default is 0.\n",
    "    - criterion (str): Criterion for model selection ('AIC' or 'BIC'). Default is 'AIC'.\n",
    "    - verbose (bool): If True, prints each model's (p, q) order and criterion value.\n",
    "\n",
    "    Returns:\n",
    "    - best_model (ARIMAResultsWrapper): The fitted ARIMA model with the lowest criterion value.\n",
    "    - best_order (tuple): The order of the ARIMA model (p, d, q) with the lowest criterion value.\n",
    "    - best_criterion (float): The minimum criterion value (AIC or BIC).\n",
    "    \"\"\"\n",
    "    best_criterion = np.inf\n",
    "    best_order     = None\n",
    "    best_model     = None\n",
    "\n",
    "    # Check if criterion is valid\n",
    "    if criterion not in [\"AIC\", \"BIC\"]:\n",
    "        raise ValueError(\"Criterion must be 'AIC' or 'BIC'\")\n",
    "\n",
    "    # Loop through possible values of p and q\n",
    "    for p in range(max_ar + 1):\n",
    "        for q in range(max_ma + 1):\n",
    "            try:\n",
    "                # Define and fit the ARIMA model\n",
    "                model = sm.tsa.ARIMA(time_series, order=(p, d, q))\n",
    "                fitted_model = model.fit()\n",
    "\n",
    "                # Select criterion\n",
    "                model_criterion = fitted_model.aic if criterion == \"AIC\" else fitted_model.bic\n",
    "                \n",
    "                # Display each model's criterion if verbose is enabled\n",
    "                if verbose:\n",
    "                    print(f\"ARIMA({p},{d},{q}) - {criterion}: {model_criterion:.2f}\")\n",
    "\n",
    "                # Compare criterion value with the best one found so far\n",
    "                if model_criterion < best_criterion:\n",
    "                    best_criterion = model_criterion\n",
    "                    best_order = (p, d, q)\n",
    "                    best_model = fitted_model\n",
    "\n",
    "            except Exception as e:\n",
    "                # Handle exceptions, such as convergence errors\n",
    "                if verbose:\n",
    "                    print(f\"ARIMA({p},{d},{q}) failed to converge.\")\n",
    "                continue\n",
    "\n",
    "    return best_model, best_order, best_criterion"
   ]
  },
  {
   "cell_type": "markdown",
   "metadata": {},
   "source": [
    "## 2. Data set up"
   ]
  },
  {
   "cell_type": "code",
   "execution_count": null,
   "metadata": {},
   "outputs": [],
   "source": [
    "# Params\n",
    "# ==============================================================================\n",
    "target = \"gdpc1\"\n",
    "gdp_lag = 1\n",
    "lags_to_test = list(range(-2, 3))  # Lags of -2, -1, 0, 1, 2 months\n",
    "start_train = \"1947-01-01\" \n",
    "start_val   = \"2005-03-01\"\n",
    "start_test  = \"2010-04-01\"\n",
    "\n",
    "# Data read and preprocessing\n",
    "# ==============================================================================\n",
    "data = pd.read_csv(os.path.join(dir_input_cleaned, \"data_tf.csv\"), parse_dates=[\"date\"])\n",
    "data = data.set_index(\"date\")[[target]].asfreq(\"MS\")\n",
    "\n",
    "# Split data into training, validation, and test sets\n",
    "data_train = data[start_train: \"2005-02-01\"]\n",
    "data_val   = data[start_val: \"2010-03-01\"]\n",
    "data_test  = data[start_test:]\n",
    "\n",
    "# Plot training, validation, and test data\n",
    "# ==============================================================================\n",
    "plt.figure(figsize=(10, 6))\n",
    "plt.plot(data_train[target].dropna(),label=\"Training\")\n",
    "plt.plot(data_val[target].dropna(),label=\"Validation\")\n",
    "plt.title('GDP growth for different sets', fontsize=16)\n",
    "plt.xlabel('Time', fontsize=14)\n",
    "plt.ylabel('GDP Growth', fontsize=14)\n",
    "plt.legend()\n",
    "plt.grid(True)\n",
    "plt.tight_layout()\n",
    "plt.show()"
   ]
  },
  {
   "cell_type": "markdown",
   "metadata": {},
   "source": [
    "## 3. Training the model"
   ]
  },
  {
   "cell_type": "code",
   "execution_count": null,
   "metadata": {},
   "outputs": [],
   "source": [
    "# Fit ARIMA model and get AR, MA order\n",
    "# ==============================================================================\n",
    "best_model, best_order, _ = automatic_arima(data_train.dropna(), max_ar=3, max_ma=3, criterion=\"AIC\", verbose=True)\n",
    "print(f\"Best ARIMA order: {best_order}\")"
   ]
  },
  {
   "cell_type": "markdown",
   "metadata": {},
   "source": [
    "## 4. Rolling nowcast on artificial data vintages"
   ]
  },
  {
   "cell_type": "code",
   "execution_count": null,
   "metadata": {},
   "outputs": [],
   "source": [
    "# Forecasting with lags\n",
    "# ==============================================================================\n",
    "val_range     = data_val.dropna().index                # Quarterly dates\n",
    "actual_values = data_val.dropna().values               # Quarterly GDP values\n",
    "data_train_val = pd.concat([data_train, data_val])     # Monthly data for training and validation\n",
    "\n",
    "# Initialize a list to store results\n",
    "results = []\n",
    "\n",
    "# Prediction loop for each lag\n",
    "for lag in lags_to_test:\n",
    "    for prediction_date in val_range:\n",
    "        # Prepare the test series up to the current prediction date\n",
    "        test_series = data_train_val.loc[data_train_val.index <= prediction_date, target].copy().to_frame()\n",
    "\n",
    "        # Simulate vintage by setting future values to NaN\n",
    "        test_series.iloc[len(test_series) + lag - 1 - gdp_lag:, 0] = np.nan\n",
    "        test_series.loc[test_series.index == prediction_date, target] = np.nan\n",
    "        \n",
    "        # Filter time series for ARIMA model fitting\n",
    "        time_series = test_series.dropna().reset_index()\n",
    "        ts_dates = time_series[\"date\"]\n",
    "        ts_values = time_series[target]\n",
    "\n",
    "        # Fit the ARIMA model on the available time series\n",
    "        arima_model = sm.tsa.ARIMA(ts_values, order = best_order)\n",
    "        arima_fit = arima_model.fit()\n",
    "        predictions = arima_fit.forecast(steps=10)\n",
    "\n",
    "        # Create a complete date range for the predictions\n",
    "        complete_dates = pd.date_range(ts_dates.iloc[0], periods=len(ts_dates) + 10, freq=\"3MS\")\n",
    "        final_predictions = list(ts_values) + list(predictions)\n",
    "        \n",
    "        # Compile predictions into a DataFrame\n",
    "        prediction_results = pd.DataFrame({\"date\": complete_dates, \"predicted_values\": final_predictions})\n",
    "        predicted_value = prediction_results.loc[prediction_results.date == prediction_date, \"predicted_values\"].values[0]\n",
    "        \n",
    "        # Append the results as a new row (including the date and predicted value for the current lag)\n",
    "        results.append({\"date\": prediction_date, \"predicted_value\": predicted_value, \"lag\": lag})\n",
    "\n",
    "# Create a DataFrame from the results list\n",
    "predictions_df = pd.DataFrame(results)\n",
    "predictions_by_lag_df = predictions_df.pivot(index='date', columns='lag', values='predicted_value')\n",
    "predictions_by_lag_df.columns = [\"Lag \" + str(lag) + \" Month(s)\" for lag in predictions_by_lag_df.columns]\n",
    "predictions_by_lag_df"
   ]
  },
  {
   "cell_type": "markdown",
   "metadata": {},
   "source": [
    "## 5. Assess and visualize model performance"
   ]
  },
  {
   "cell_type": "code",
   "execution_count": null,
   "metadata": {},
   "outputs": [],
   "source": [
    "# Create a DataFrame for actual values\n",
    "final_df = pd.merge(data_val.dropna(), predictions_by_lag_df, left_index=True, right_index=True)\n",
    "final_df.rename(columns={target: \"Actual GDP\"}, inplace=True)\n",
    "\n",
    "# RMSE Calculation\n",
    "rmse_results = {}\n",
    "for lag in predictions_by_lag_df.columns:\n",
    "    # Calculate RMSE\n",
    "    rmse = np.sqrt(((final_df[lag] - final_df[\"Actual GDP\"]) ** 2).mean())\n",
    "    rmse_results[lag] = rmse\n",
    "    \n",
    "rmse_df = pd.DataFrame(list(rmse_results.items()), columns=['Vintage', 'RMSE'])\n",
    "rmse_df"
   ]
  },
  {
   "cell_type": "code",
   "execution_count": null,
   "metadata": {},
   "outputs": [],
   "source": [
    "plt.figure(figsize=(15, 10))\n",
    "\n",
    "# Plot each lag series using a loop\n",
    "for label in final_df.columns:\n",
    "    linestyle = '-' if label == \"Actual GDP\" else '--'  # Solid line for actual, dashed for lags\n",
    "    plt.plot(final_df[label], label=label, marker='o', markersize=10 ,linestyle=linestyle, linewidth=3)\n",
    "\n",
    "# Add labels and title\n",
    "plt.title('Predictions vs Actual GDP', fontsize=16)\n",
    "plt.xlabel('Time', fontsize=14)\n",
    "plt.ylabel('GDP Growth', fontsize=14)\n",
    "plt.legend()\n",
    "plt.grid(True)\n",
    "plt.tight_layout()\n",
    "plt.show()"
   ]
  }
 ],
 "metadata": {
  "kernelspec": {
   "display_name": ".venv",
   "language": "python",
   "name": "python3"
  },
  "language_info": {
   "codemirror_mode": {
    "name": "ipython",
    "version": 3
   },
   "file_extension": ".py",
   "mimetype": "text/x-python",
   "name": "python",
   "nbconvert_exporter": "python",
   "pygments_lexer": "ipython3",
   "version": "3.12.7"
  }
 },
 "nbformat": 4,
 "nbformat_minor": 2
}
